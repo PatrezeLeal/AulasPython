{
  "nbformat": 4,
  "nbformat_minor": 0,
  "metadata": {
    "colab": {
      "provenance": [],
      "include_colab_link": true
    },
    "kernelspec": {
      "name": "python3",
      "display_name": "Python 3"
    },
    "language_info": {
      "name": "python"
    }
  },
  "cells": [
    {
      "cell_type": "markdown",
      "metadata": {
        "id": "view-in-github",
        "colab_type": "text"
      },
      "source": [
        "<a href=\"https://colab.research.google.com/github/PatrezeLeal/AulasPython/blob/main/Exercicios_aula_1_2022_1_20221022000945.ipynb\" target=\"_parent\"><img src=\"https://colab.research.google.com/assets/colab-badge.svg\" alt=\"Open In Colab\"/></a>"
      ]
    },
    {
      "cell_type": "markdown",
      "source": [
        "#PRIMEIRA AULA DE PYTHON"
      ],
      "metadata": {
        "id": "G7CGKoIoKkK_"
      }
    },
    {
      "cell_type": "markdown",
      "source": [
        "## Comando PRINT"
      ],
      "metadata": {
        "id": "R-eRS5qETtM0"
      }
    },
    {
      "cell_type": "markdown",
      "source": [
        "###1. Fazer um programa que escreve na tela Olá Mundo!\n"
      ],
      "metadata": {
        "id": "CBUQYbpUKspn"
      }
    },
    {
      "cell_type": "code",
      "execution_count": null,
      "metadata": {
        "id": "UpXYQhrjFFoi",
        "colab": {
          "base_uri": "https://localhost:8080/"
        },
        "outputId": "5b6648c2-b289-4272-d9d5-9af5876d5c1c"
      },
      "outputs": [
        {
          "output_type": "stream",
          "name": "stdout",
          "text": [
            "Olá Mundo!\n",
            "No, I'm not Marcelo\n",
            "Parafraseando Santo Agostinho: \"se eu falasse a lingua dos anjos\"\n",
            "40 + \" anos \" \n",
            "40 anos \n",
            "40  anos \n",
            " verdadeiro =  True\n",
            "Professor, você é muito  muito  muito  muito  muito  muito  muito  muito  muito  muito  muito  muito  muito  muito  muito  muito  muito  muito  muito  muito  muito  muito  muito  muito  muito legal\n"
          ]
        }
      ],
      "source": [
        "# comentário\n",
        "print(\"Olá Mundo!\") # depois da linha de código\n",
        "print(\"No, I'm not Marcelo\")\n",
        "print('Parafraseando Santo Agostinho: \"se eu falasse a lingua dos anjos\"')\n",
        "print( '40 + \" anos \" ')\n",
        "print( str(40) + \" anos \" )\n",
        "print( 40 , \" anos \" )\n",
        "print(\" verdadeiro = \", True)\n",
        "# texto usa o +, com inteiros usa virgula.\n",
        "print('Professor, você é' + 25* \" muito \" + 'legal')\n",
        "\"\"\"\n",
        "*\n",
        "**\n",
        "***\n",
        "**\n",
        "*\n",
        "\"\"\"\n",
        "print(1* '*')\n",
        "print(2* '*')\n",
        "print(3* '*')\n",
        "print(4* '*')\n"
      ]
    },
    {
      "cell_type": "markdown",
      "source": [
        "###2. Concatenando informações "
      ],
      "metadata": {
        "id": "xWIysM8vK5P4"
      }
    },
    {
      "cell_type": "code",
      "source": [
        "# Texto e números\n",
        "\n",
        "\n",
        "# Texto com booleano\n",
        "\n",
        "\n",
        "# Textos longos, com mais de uma linha\n",
        "\n",
        "\n",
        "\"\"\"\n",
        "Imprimir a mensagem \n",
        "    \"Professor, você é muito legal\"\n",
        "Mas o muito deve ser repetido 25 vezes.\n",
        "\"\"\"\n"
      ],
      "metadata": {
        "id": "bQ7S58PvK5Z7"
      },
      "execution_count": null,
      "outputs": []
    },
    {
      "cell_type": "markdown",
      "source": [
        "## Tipos de variáveis"
      ],
      "metadata": {
        "id": "_VQpZnb4NJy_"
      }
    },
    {
      "cell_type": "markdown",
      "source": [
        "###1. Número Inteiro\n"
      ],
      "metadata": {
        "id": "jr4afUM0NTqx"
      }
    },
    {
      "cell_type": "code",
      "source": [
        "# Decalarar a Variável Inteira\n",
        "variavel_inteira = 10\n",
        "\n",
        "# Imprimir as variáveis na tela (usar .format)\n",
        "nomeDaPessoaFissica = 10\n",
        "print(variavel_inteira)\n",
        "print(\"O número é: {}\".format(variavel_inteira))\n"
      ],
      "metadata": {
        "id": "DL6BLtuFNhuk",
        "colab": {
          "base_uri": "https://localhost:8080/"
        },
        "outputId": "b3404d84-1a56-4ee8-dc1e-e26b44499224"
      },
      "execution_count": null,
      "outputs": [
        {
          "output_type": "stream",
          "name": "stdout",
          "text": [
            "10\n",
            "O número é: 10\n"
          ]
        }
      ]
    },
    {
      "cell_type": "markdown",
      "source": [
        "###2. Números Reais"
      ],
      "metadata": {
        "id": "NOctwMQBQNEY"
      }
    },
    {
      "cell_type": "code",
      "source": [
        "# Declarar a Variável Real\n",
        "variavel_real = 3.14\n",
        "# Imprimir as variáveis na tela (usar .format)\n",
        "print(\"O número é: {}\".format(variavel_real))"
      ],
      "metadata": {
        "id": "3qtwh5CsOBB1",
        "colab": {
          "base_uri": "https://localhost:8080/"
        },
        "outputId": "3d0ec1fc-219d-4b07-d4f1-bc62a0c1661d"
      },
      "execution_count": null,
      "outputs": [
        {
          "output_type": "stream",
          "name": "stdout",
          "text": [
            "O número é: 3.14\n"
          ]
        }
      ]
    },
    {
      "cell_type": "markdown",
      "source": [
        "###3. Texto e Comentário"
      ],
      "metadata": {
        "id": "d6BwgLnYRUA7"
      }
    },
    {
      "cell_type": "code",
      "source": [
        "# Declarar a Variável tipo String\n",
        "variavel_string = 'prof. João Felipe'\n",
        "# Declarar a Variável tipo Comentário\n",
        "variavel_comentario = '''Este professor é muito legal mesmo, gosta do que \n",
        "está ensinando e se preocupa se os alunos estão entendendo.'''\n",
        "variavel_comentario = \"\"\"Este professor é muito legal mesmo, gosta do que \n",
        "está ensinando e se preocupa se os alunos estão entendendo.\"\"\"\n",
        "# Imprimir as variáveis na tela (usar .format)\n",
        "print(variavel_string)\n",
        "print(variavel_comentario)\n",
        "# Declarar duas variáveis tipo String\n",
        "frase_1 = \"o prof. João Felipe tem 40 anos...\"\n",
        "frase_2 = ' Mas nem parece, com essa cara de nene!!!! \\n'\n",
        "# Imprimir as frase em um print()\n",
        "print(frase_1 + frase_2)\n",
        "print(\"{}{}\".format(frase_1,frase_2))\n",
        "print(\"{}\".format(frase_1) , \"\\n\" + 3*\"{}\".format(frase_2))\n",
        "\n"
      ],
      "metadata": {
        "id": "hmfvJ7WARjB2",
        "colab": {
          "base_uri": "https://localhost:8080/"
        },
        "outputId": "e1cfe58c-fa4e-469b-87f5-e25a0af12a6a"
      },
      "execution_count": null,
      "outputs": [
        {
          "output_type": "stream",
          "name": "stdout",
          "text": [
            "prof. João Felipe\n",
            "Este professor é muito legal mesmo, gosta do que \n",
            "está ensinando e se preocupa se os alunos estão entendendo.\n",
            "o prof. João Felipe tem 40 anos... Mas nem parece, com essa cara de nene!!!! \n",
            "\n",
            "o prof. João Felipe tem 40 anos... Mas nem parece, com essa cara de nene!!!! \n",
            "\n",
            "o prof. João Felipe tem 40 anos... \n",
            " Mas nem parece, com essa cara de nene!!!! \n",
            " Mas nem parece, com essa cara de nene!!!! \n",
            " Mas nem parece, com essa cara de nene!!!! \n",
            "\n"
          ]
        }
      ]
    },
    {
      "cell_type": "markdown",
      "source": [
        "###4. Lógico ou Booleano"
      ],
      "metadata": {
        "id": "kFp7D9FTSb1f"
      }
    },
    {
      "cell_type": "code",
      "source": [
        "# Declarar a Variável tipo Boolean\n",
        "\n",
        "boolean = True\n",
        "boolean = False\n",
        "# Imprimir as variáveis na tela (usar .format)\n",
        "print(boolean)"
      ],
      "metadata": {
        "id": "sUqxxe31ScVX",
        "colab": {
          "base_uri": "https://localhost:8080/"
        },
        "outputId": "ae5c0170-33ce-4640-8d17-bdf32cb3e0ef"
      },
      "execution_count": null,
      "outputs": [
        {
          "output_type": "stream",
          "name": "stdout",
          "text": [
            "False\n"
          ]
        }
      ]
    },
    {
      "cell_type": "markdown",
      "source": [
        "###5. Lista"
      ],
      "metadata": {
        "id": "t48ssv1ES12k"
      }
    },
    {
      "cell_type": "code",
      "source": [
        "# Declarar a Variável tipo Lista\n",
        "\n",
        "# Imprimir as variáveis na tela (usar .format)\n"
      ],
      "metadata": {
        "id": "F2gQQ0NzS7Xk"
      },
      "execution_count": null,
      "outputs": []
    },
    {
      "cell_type": "markdown",
      "source": [
        "###6. Dicionário"
      ],
      "metadata": {
        "id": "DsvIHQK0UDSU"
      }
    },
    {
      "cell_type": "code",
      "source": [
        "# Declarar a Variável tipo Dicionário\n",
        "\n",
        "# Imprimir as variáveis na tela (usar .format)\n"
      ],
      "metadata": {
        "id": "lYlvUcNZUFEE"
      },
      "execution_count": null,
      "outputs": []
    },
    {
      "cell_type": "markdown",
      "source": [
        "## Entrada de dados com INPUT"
      ],
      "metadata": {
        "id": "qfeEXqNGUe1m"
      }
    },
    {
      "cell_type": "markdown",
      "source": [
        "###1. Texto"
      ],
      "metadata": {
        "id": "5SVTfMXXUp9c"
      }
    },
    {
      "cell_type": "code",
      "source": [
        "# Declarar variável nome\n",
        "nome = input(\"Nome: \")\n",
        "# Imprimir na tela: \"Olá Fulano, tudo bem?\"\n",
        "print(\"Olá, {}, seja bem-vindo\".format(nome))\n",
        "print(type(nome))\n"
      ],
      "metadata": {
        "id": "uOC4w3niUm_N",
        "colab": {
          "base_uri": "https://localhost:8080/"
        },
        "outputId": "2918eab2-d660-4f21-8552-5ca2e7943512"
      },
      "execution_count": null,
      "outputs": [
        {
          "output_type": "stream",
          "name": "stdout",
          "text": [
            "Nome: yu\n",
            "Olá, yu, seja bem-vindo\n",
            "<class 'str'>\n"
          ]
        }
      ]
    },
    {
      "cell_type": "markdown",
      "source": [
        "###2. Número Inteiro"
      ],
      "metadata": {
        "id": "YqRE38KrVJ8S"
      }
    },
    {
      "cell_type": "code",
      "source": [
        "# Declarar variável número\n",
        "numero_1 = int(input(\"Numero: \"))\n",
        "numero_2 = int(input(\"Numero: \"))\n",
        "# Imprimir na tela: \"Olá Fulano, tudo bem?\"\n",
        "print(numero_1 + numero_2)\n"
      ],
      "metadata": {
        "id": "yvDlSEqiVM27",
        "colab": {
          "base_uri": "https://localhost:8080/"
        },
        "outputId": "c4fb33cd-35f2-4ec7-a600-022b6b6c3bb0"
      },
      "execution_count": null,
      "outputs": [
        {
          "output_type": "stream",
          "name": "stdout",
          "text": [
            "Numero: 3\n",
            "Numero: 2\n",
            "5\n"
          ]
        }
      ]
    },
    {
      "cell_type": "markdown",
      "source": [
        "###3. Número Real"
      ],
      "metadata": {
        "id": "6hnHWc-GbllO"
      }
    },
    {
      "cell_type": "code",
      "source": [
        "# Declarar variável número\n",
        "\n",
        "# Imprimir na tela: \"Olá Fulano, tudo bem?\"\n"
      ],
      "metadata": {
        "id": "gSD8xCbbbpg4"
      },
      "execution_count": null,
      "outputs": []
    },
    {
      "cell_type": "markdown",
      "source": [
        "##Operadores"
      ],
      "metadata": {
        "id": "zT5nrG_vb2pu"
      }
    },
    {
      "cell_type": "markdown",
      "source": [
        "###1 - Atribuição (=)"
      ],
      "metadata": {
        "id": "1ohojZdcb5ry"
      }
    },
    {
      "cell_type": "code",
      "source": [
        "# Declarar a variável:\n",
        "\n",
        "# Imprimir na tela\n"
      ],
      "metadata": {
        "id": "MzoYHQBgc6VH"
      },
      "execution_count": null,
      "outputs": []
    },
    {
      "cell_type": "markdown",
      "source": [
        "###2 - Adição (+)"
      ],
      "metadata": {
        "id": "JhJj8EHrdn0J"
      }
    },
    {
      "cell_type": "code",
      "source": [
        "#Professor o meu não executa a segunda caixa de texto\n",
        "\n",
        "#Fazer programa que imprime na tela a soma de 2 números\n",
        "# Declarar a primeira variável:\n",
        "num_x = int(input(\"Entre com o primeiro número:\"))\n",
        "# Declarar a segunda variável:\n",
        "num_y = int(input(\"Entre com o segundo número:\"))\n",
        "# Declarar a terceira variável:\n",
        "num_z= int(input(\"Entre com o terceiro número:\"))\n",
        "\n",
        "\n",
        "# Fazer a soma\n",
        "soma = num_x + num_y \n",
        "# Imprimir na tela\n",
        "print(\"{}+{} = {}\".format(num_x, num_y, soma))\n",
        "\n",
        "#Imprime na tela x elevado a z\n",
        "elevado = num_x ** num_z\n",
        "# Imprimir na tela\n",
        "print(\"{}+{} = {}\".format(num_x, num_z, elevado))\n",
        "\n",
        "#Imprime a subração x - y - z\n",
        "\n",
        "subtração = num_x - num_y - num_z\n",
        "# Imprimir na tela\n",
        "print(\"{}+{}+{} = {}\".format(num_x, num_y,num_z, subtração))"
      ],
      "metadata": {
        "id": "hbBHb7PgfgVR"
      },
      "execution_count": null,
      "outputs": []
    },
    {
      "cell_type": "code",
      "source": [
        "# Fazer programa em que uma variável soma 3 a ela mesma\n",
        "# Declarar variável\n",
        "\n",
        "# Fazer a soma dela com 3\n",
        "# a = a + 3\n",
        "\n",
        "# Imprimir na tela\n"
      ],
      "metadata": {
        "id": "oRVsaFCFf1nh"
      },
      "execution_count": null,
      "outputs": []
    },
    {
      "cell_type": "markdown",
      "source": [
        "###3 - Subtração (-)"
      ],
      "metadata": {
        "id": "_QCZY1Pogpfo"
      }
    },
    {
      "cell_type": "code",
      "source": [
        "# Fazer programa que imprime na tela a subtração de 2 números\n",
        "# Declarar a primeira variável:\n",
        "\n",
        "# Declarar a primeira variável:\n",
        "\n",
        "# Fazer a subtração\n",
        "\n",
        "# Imprimir na tela\n"
      ],
      "metadata": {
        "id": "2aP0artggsub"
      },
      "execution_count": null,
      "outputs": []
    },
    {
      "cell_type": "code",
      "source": [
        "# Fazer programa em que uma variável subtração 3 a ela mesma\n",
        "# Declarar variável\n",
        "\n",
        "# Fazer a subtração dela com 3\n",
        "\n",
        "# Imprimir na tela\n"
      ],
      "metadata": {
        "id": "IxYk5b5OhLYj"
      },
      "execution_count": null,
      "outputs": []
    },
    {
      "cell_type": "markdown",
      "source": [
        "###4 - Multiplicação (*)"
      ],
      "metadata": {
        "id": "NVfJUD3DiD8K"
      }
    },
    {
      "cell_type": "code",
      "source": [
        "# Fazer programa que imprime na tela a multiplicação de 2 números\n",
        "# Declarar a primeira variável:\n",
        "\n",
        "# Declarar a primeira variável:\n",
        "\n",
        "# Fazer a multiplicação\n",
        "\n",
        "# Imprimir na tela\n"
      ],
      "metadata": {
        "id": "DWcKr_t2iIEz"
      },
      "execution_count": null,
      "outputs": []
    },
    {
      "cell_type": "code",
      "source": [
        "# Fazer programa em que uma variável multiplicação 3 a ela mesma\n",
        "# Declarar variável\n",
        "\n",
        "# Fazer a multiplicação dela com 3\n",
        "\n",
        "# Imprimir na tela\n"
      ],
      "metadata": {
        "id": "yrjAe_nKiSDh"
      },
      "execution_count": null,
      "outputs": []
    },
    {
      "cell_type": "markdown",
      "source": [
        "###5 - Divisão (/)"
      ],
      "metadata": {
        "id": "8XM_F5XGiaoX"
      }
    },
    {
      "cell_type": "code",
      "source": [
        "# Fazer programa que imprime na tela a divisão de 2 números\n",
        "# Declarar a primeira variável:\n",
        "\n",
        "# Declarar a primeira variável\n",
        "\n",
        "# Fazer a divisão\n",
        "\n",
        "# Imprimir na tela\n"
      ],
      "metadata": {
        "id": "-VyxZGtGihQj"
      },
      "execution_count": null,
      "outputs": []
    },
    {
      "cell_type": "code",
      "source": [
        "# Fazer programa em que uma variável divisão 3 a ela mesma\n",
        "# Declarar variável\n",
        "\n",
        "# Fazer a divisão dela com 3\n",
        "\n",
        "# Imprimir na tela\n"
      ],
      "metadata": {
        "id": "WAjRrH9lilRZ"
      },
      "execution_count": null,
      "outputs": []
    },
    {
      "cell_type": "markdown",
      "source": [
        "###6 - Módulo (%) -> resto de uma divisão"
      ],
      "metadata": {
        "id": "WU2QYuI1i4uc"
      }
    },
    {
      "cell_type": "code",
      "source": [
        "# Fazer programa que imprime na tela o módulo de 2 números\n",
        "# Declarar a primeira variável:\n",
        "\n",
        "# Declarar a primeira variável:\n",
        "\n",
        "# Fazer a módulo\n",
        "\n",
        "# Imprimir na tela\n"
      ],
      "metadata": {
        "id": "88b_yoRqi8Hx"
      },
      "execution_count": null,
      "outputs": []
    },
    {
      "cell_type": "code",
      "source": [
        "# Fazer programa em que uma variável módulo 3 a ela mesma\n",
        "# Declarar variável\n",
        "\n",
        "# Fazer a módulo dela com 3\n",
        "\n",
        "# Imprimir na tela\n"
      ],
      "metadata": {
        "id": "veXnesgCjEgO"
      },
      "execution_count": null,
      "outputs": []
    },
    {
      "cell_type": "markdown",
      "source": [
        "###7 - Exponenciação (**)"
      ],
      "metadata": {
        "id": "fvjp9Xh6jLxN"
      }
    },
    {
      "cell_type": "code",
      "source": [
        "# Fazer programa que imprime na tela a exponenciação de 2 números\n",
        "# Declarar a primeira variável:\n",
        "\n",
        "# Declarar a primeira variável:\n",
        "\n",
        "# Fazer a exponenciação\n",
        "\n",
        "# Imprimir na tela\n"
      ],
      "metadata": {
        "id": "aWBasVBCjaUD"
      },
      "execution_count": null,
      "outputs": []
    },
    {
      "cell_type": "markdown",
      "source": [
        "###8 - Divisão Inteira (//)"
      ],
      "metadata": {
        "id": "wOLhiGgQjy3H"
      }
    },
    {
      "cell_type": "code",
      "source": [
        "# Fazer programa que imprime na tela a divisão inteira de 2 números\n",
        "# Declarar a primeira variável:\n",
        "\n",
        "# Declarar a primeira variável:\n",
        "\n",
        "# Fazer a divisão inteira\n",
        "\n",
        "# Imprimir na tela\n"
      ],
      "metadata": {
        "id": "BQ9foVbcj3mA"
      },
      "execution_count": null,
      "outputs": []
    },
    {
      "cell_type": "markdown",
      "source": [
        "##Exercícios"
      ],
      "metadata": {
        "id": "uD8VHCytkM8b"
      }
    },
    {
      "cell_type": "markdown",
      "source": [
        "###1. Fazer programa que converte a velocidade de m/s para km/h. Dado: velocidade(m/s) = velocidade(km/h) * 3.6"
      ],
      "metadata": {
        "id": "13pbhHVMkRV6"
      }
    },
    {
      "cell_type": "code",
      "source": [
        "# Declaração da variável velocidade\n",
        "\n",
        "# Imprimir na tela a velocidade convertida\n"
      ],
      "metadata": {
        "id": "-WWdWzpikPZA"
      },
      "execution_count": null,
      "outputs": []
    },
    {
      "cell_type": "markdown",
      "source": [
        "###2. Fazer um programa em que o usuário digita o raio de um circunferência e o programa imprime na tela o seu comprimento."
      ],
      "metadata": {
        "id": "CNg2PQVQk4CI"
      }
    },
    {
      "cell_type": "code",
      "source": [
        "# Importação da biblioteca math\n",
        "\n",
        "# Declaração da variável\n",
        "\n",
        "# Calcular o comprimento\n",
        "\n",
        "# Imprimir na tela\n"
      ],
      "metadata": {
        "id": "uuURP0ThlMu9"
      },
      "execution_count": null,
      "outputs": []
    },
    {
      "cell_type": "markdown",
      "source": [
        "###3. Fazer um programa em qeue o usuário entra com um número e o programa imprime na tela seu antecessor e seu sucessor."
      ],
      "metadata": {
        "id": "9b10ty1Nl6Yh"
      }
    },
    {
      "cell_type": "code",
      "source": [
        "# Declaração da variável\n",
        "\n",
        "# Calcular o antecessor\n",
        "\n",
        "# Calcular o sucessor\n",
        "\n",
        "# Imprimir na tela\n"
      ],
      "metadata": {
        "id": "QuQ1WrpcnTVU"
      },
      "execution_count": null,
      "outputs": []
    },
    {
      "cell_type": "markdown",
      "source": [
        "###4. Fazer um programa em qeue o usuário entra com o ano de seu nascimento e o programa imprime na tela sua idade."
      ],
      "metadata": {
        "id": "C2hwNQwSn5VO"
      }
    },
    {
      "cell_type": "code",
      "source": [
        "# Declaração da variável\n",
        "\n",
        "# Calcular aniversário\n",
        "\n",
        "# Imprimir na tela o aniversário\n"
      ],
      "metadata": {
        "id": "CSNpL6jToER_"
      },
      "execution_count": null,
      "outputs": []
    }
  ]
}